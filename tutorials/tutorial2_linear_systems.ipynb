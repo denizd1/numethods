{
 "cells": [
  {
   "cell_type": "markdown",
   "id": "d3933270",
   "metadata": {},
   "source": [
    "# Tutorial 2 - Solving Linear Systems\n",
    "\n",
    "In this notebook, we will study numerical methods for solving systems of linear equations:\n",
    "\n",
    "$$\n",
    "A x = b, \\quad A \\in \\mathbb{R}^{n \\times n}, \\, x, b \\in \\mathbb{R}^n.\n",
    "$$\n",
    "\n",
    "Why we care about solving \n",
    "𝐴\n",
    "𝑥\n",
    "=\n",
    "𝑏\n",
    "Ax=b in numerical methods (e.g., arises in ODEs, PDEs, optimization, physics).\n",
    "\n",
    "Exact solution: $ x=A^{-1}b $, but computing $ A^{-1} $ explicitly is costly/unstable.\n",
    "\n",
    "Numerical algorithms instead use factorizations or iterative schemes.\n",
    "\n",
    "Such systems appear everywhere in scientific computing:\n",
    "- discretization of differential equations (ODEs, PDEs),\n",
    "- optimization problems,\n",
    "- physical simulations,\n",
    "- statistical models.\n",
    "\n",
    "We will study **direct methods** (exact in theory) and **iterative methods** (successive approximations)."
   ]
  },
  {
   "cell_type": "markdown",
   "id": "5fe78c6e",
   "metadata": {},
   "source": [
    "## 1. Direct Methods\n",
    "Introduce algorithms that give the solution in a finite number of steps (up to roundoff):\n",
    "\n",
    "- Gauss-Jordan elimination (concept, matrix reduction).\n",
    "\n",
    "- LU decomposition (and forward/backward substitution).\n",
    "\n",
    "- Cholesky decomposition (special case for symmetric positive definite matrices).\n",
    "\n",
    "### 1.1 Gauss-Jordan Elimination\n",
    "We augment $A$ with $b$ and apply row operations until $A$ becomes the identity:\n",
    "$$\n",
    "[A | b] \\;\\longrightarrow\\; [I | x].\n",
    "$$"
   ]
  },
  {
   "cell_type": "code",
   "execution_count": 1,
   "id": "9bf371eb",
   "metadata": {},
   "outputs": [
    {
     "name": "stdout",
     "output_type": "stream",
     "text": [
      "Gauss–Jordan solution: Vector([7.111111111111111, -3.2222222222222223])\n"
     ]
    }
   ],
   "source": [
    "from numethods.linalg import Matrix, Vector\n",
    "from numethods.solvers import GaussJordan\n",
    "\n",
    "A = Matrix([[2, 1], [5, 7]])\n",
    "b = Vector([11, 13])\n",
    "solver = GaussJordan(A)\n",
    "x = solver.solve(b)\n",
    "print(\"Gauss–Jordan solution:\", x)"
   ]
  },
  {
   "cell_type": "markdown",
   "id": "a45de9c0",
   "metadata": {},
   "source": [
    "### 1.2 LU Decomposition\n",
    "\n",
    "Factorization:\n",
    "$$\n",
    "A = L U,\n",
    "$$\n",
    "with $L$ lower-triangular, $U$ upper-triangular."
   ]
  },
  {
   "cell_type": "code",
   "execution_count": 2,
   "id": "7211fd5a",
   "metadata": {},
   "outputs": [
    {
     "name": "stdout",
     "output_type": "stream",
     "text": [
      "LU solution: Vector([1.0, 2.0])\n"
     ]
    }
   ],
   "source": [
    "from numethods.solvers import LUDecomposition\n",
    "\n",
    "A = Matrix([[3, 1], [6, 3]])\n",
    "b = Vector([5, 12])\n",
    "solver = LUDecomposition(A)\n",
    "x = solver.solve(b)\n",
    "print(\"LU solution:\", x)"
   ]
  },
  {
   "cell_type": "markdown",
   "id": "476368f3",
   "metadata": {},
   "source": [
    "### 1.3 Cholesky Decomposition\n",
    "\n",
    "For symmetric positive-definite (SPD) matrices:\n",
    "$$\n",
    "A = L L^T.\n",
    "$$"
   ]
  },
  {
   "cell_type": "code",
   "execution_count": 8,
   "id": "29c710f2",
   "metadata": {},
   "outputs": [
    {
     "name": "stdout",
     "output_type": "stream",
     "text": [
      "Cholesky solution: Vector([1.1666666666666665, 0.6666666666666667])\n"
     ]
    }
   ],
   "source": [
    "from numethods.solvers import Cholesky\n",
    "\n",
    "A = Matrix([[4, 2], [2, 4]])\n",
    "b = Vector([6, 5])\n",
    "solver = Cholesky(A)\n",
    "x = solver.solve(b)\n",
    "print(\"Cholesky solution:\", x)"
   ]
  },
  {
   "cell_type": "markdown",
   "id": "c8b85927",
   "metadata": {},
   "source": [
    "## 2. Iterative Methods\n",
    "\n",
    "### 2.1 Jacobi Iteration\n",
    "\n",
    "Update:\n",
    "$$\n",
    "x_i^{(k+1)} = \\frac{1}{a_{ii}}\\Big(b_i - \\sum_{j\\ne i} a_{ij}x_j^{(k)}\\Big).\n",
    "$$"
   ]
  },
  {
   "cell_type": "code",
   "execution_count": 4,
   "id": "ebd0b31c",
   "metadata": {},
   "outputs": [
    {
     "name": "stdout",
     "output_type": "stream",
     "text": [
      "Jacobi solution: Vector([4.999999991891302, 4.999999985914916, 4.999999984848761, 4.999999987766864])\n"
     ]
    }
   ],
   "source": [
    "from numethods.solvers import Jacobi\n",
    "\n",
    "A = Matrix([[4, -1, 0, 0],\n",
    "            [-1, 4, -1, 0],\n",
    "            [0, -1, 4, -1],\n",
    "            [0, 0, -1, 3]])\n",
    "b = Vector([15, 10, 10, 10])\n",
    "solver = Jacobi(A, b, tol=1e-8, max_iter=100)\n",
    "x = solver.solve()\n",
    "print(\"Jacobi solution:\", x)"
   ]
  },
  {
   "cell_type": "markdown",
   "id": "3e1bd09d",
   "metadata": {},
   "source": [
    "### 2.2 Gauss-Seidel Iteration\n",
    "\n",
    "Update:\n",
    "$$\n",
    "x_i^{(k+1)} = \\frac{1}{a_{ii}}\\Big(b_i - \\sum_{j<i} a_{ij}x_j^{(k+1)} - \\sum_{j>i} a_{ij}x_j^{(k)}\\Big).\n",
    "$$"
   ]
  },
  {
   "cell_type": "code",
   "execution_count": 5,
   "id": "5bea9ffe",
   "metadata": {},
   "outputs": [
    {
     "name": "stdout",
     "output_type": "stream",
     "text": [
      "Gauss–Seidel solution: Vector([4.999999973600783, 4.999999981068349, 4.999999991156471, 4.999999997052157])\n"
     ]
    }
   ],
   "source": [
    "from numethods.solvers import GaussSeidel\n",
    "\n",
    "solver = GaussSeidel(A, b, tol=1e-8, max_iter=100)\n",
    "x = solver.solve()\n",
    "print(\"Gauss–Seidel solution:\", x)"
   ]
  },
  {
   "cell_type": "markdown",
   "id": "4f365016",
   "metadata": {},
   "source": [
    "## 3. Convergence\n",
    "\n",
    "The residual is:\n",
    "$$\n",
    "r^{(k)} = b - A x^{(k)}.\n",
    "$$\n",
    "\n",
    "A good stopping rule: $\\|r^{(k)}\\| < tol$."
   ]
  },
  {
   "cell_type": "code",
   "execution_count": 6,
   "id": "993a9d44",
   "metadata": {},
   "outputs": [
    {
     "data": {
      "image/png": "[encoded data removed]",
      "text/plain": [
       "<Figure size 640x480 with 1 Axes>"
      ]
     },
     "metadata": {},
     "output_type": "display_data"
    }
   ],
   "source": [
    "import matplotlib.pyplot as plt\n",
    "\n",
    "solver_j = Jacobi(A, b, tol=1e-12, max_iter=50)\n",
    "xj = solver_j.solve()\n",
    "res_j = solver_j.history\n",
    "\n",
    "solver_gs = GaussSeidel(A, b, tol=1e-12, max_iter=50)\n",
    "xgs = solver_gs.solve()\n",
    "res_gs = solver_gs.history\n",
    "\n",
    "plt.semilogy(res_j, label=\"Jacobi\")\n",
    "plt.semilogy(res_gs, label=\"Gauss–Seidel\")\n",
    "plt.xlabel(\"Iteration\")\n",
    "plt.ylabel(\"Residual norm\")\n",
    "plt.legend()\n",
    "plt.show()"
   ]
  },
  {
   "cell_type": "markdown",
   "id": "41a3c7a9",
   "metadata": {},
   "source": [
    "## 4. Summary\n",
    "\n",
    "- Direct: Gauss–Jordan, LU, Cholesky.\n",
    "- Iterative: Jacobi, Gauss–Seidel.\n",
    "- Convergence depends on matrix properties (e.g., diagonal dominance, SPD).\n",
    "- Direct methods better for small/moderate dense systems.\n",
    "- Iterative methods essential for large, sparse systems (e.g., PDE discretizations).\n",
    "- Conditioning of matrix affects stability."
   ]
  }
 ],
 "metadata": {
  "kernelspec": {
   "display_name": "Python 3",
   "language": "python",
   "name": "python3"
  },
  "language_info": {
   "codemirror_mode": {
    "name": "ipython",
    "version": 3
   },
   "file_extension": ".py",
   "mimetype": "text/x-python",
   "name": "python",
   "nbconvert_exporter": "python",
   "pygments_lexer": "ipython3",
   "version": "3.13.7"
  }
 },
 "nbformat": 4,
 "nbformat_minor": 5
}
